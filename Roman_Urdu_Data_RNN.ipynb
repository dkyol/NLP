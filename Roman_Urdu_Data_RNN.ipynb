{
 "cells": [
  {
   "cell_type": "markdown",
   "metadata": {},
   "source": [
    "# Data Science Case Study"
   ]
  },
  {
   "cell_type": "markdown",
   "metadata": {},
   "source": [
    "Project Goal: To train a sentiment classifier on a corpus of provided documents in order to maximize accuracy. There is special interest in being able to accurately detect negative sentiment. The training data includes documents from a wide variety of sources, not merely social media, and some of it may be inconsistently labeled. Describe the business outcomes including how data limitations impact your results and how these limitations could be addressed in a larger project."
   ]
  },
  {
   "cell_type": "markdown",
   "metadata": {},
   "source": [
    "**Import Libraries**"
   ]
  },
  {
   "cell_type": "code",
   "execution_count": 1,
   "metadata": {},
   "outputs": [],
   "source": [
    "import pandas as pd\n",
    "import numpy as np\n",
    "import torch\n",
    "import torch.nn as nn\n",
    "import shutil\n",
    "\n",
    "from sklearn.model_selection import train_test_split\n",
    "from sklearn.feature_extraction.text import CountVectorizer\n",
    "\n",
    "from torch.utils.data import TensorDataset, DataLoader\n",
    "\n",
    "from sklearn.metrics import classification_report\n",
    "from sklearn.metrics import confusion_matrix\n",
    "\n",
    "import seaborn as sns\n",
    "import matplotlib.pyplot as plt "
   ]
  },
  {
   "cell_type": "markdown",
   "metadata": {},
   "source": [
    "### 1. Data"
   ]
  },
  {
   "cell_type": "markdown",
   "metadata": {},
   "source": [
    "The Roman Urdu Data Set Data Set contains about 20,000 rows and two columns.  The columns contain the text and sentiment -- negative, positve and neutral.  The text field contains punctuation, missing fields, capitilization, words form other languages and some non-text characters. \n",
    "\n",
    "There are several identical entries in the text column which have different label sentiments.  Based on the information given, that the social media company wants to identify negative sentiment, it is assumed that this is not a multi-label classification problem.  That any given phrase or sentence will only would either be positive, neutral or negative, and not some combination of the classes.\n",
    "\n",
    "Additionally, a large number of inconsistently labeled entries might lessen the ability to delineate the feature space. The negatively labeled rows make up about a quarter of the dataset. In an attempt to identify inconsistently labeled text, the text was converted to lower case in order to complete a comparison evalutaion besed on the value of each entry. "
   ]
  },
  {
   "cell_type": "markdown",
   "metadata": {},
   "source": [
    "**Import Dataset**"
   ]
  },
  {
   "cell_type": "code",
   "execution_count": 2,
   "metadata": {},
   "outputs": [
    {
     "data": {
      "text/plain": [
       "(20229, 3)"
      ]
     },
     "execution_count": 2,
     "metadata": {},
     "output_type": "execute_result"
    }
   ],
   "source": [
    "flat_file = pd.read_csv('Roman Urdu DataSet.csv',\n",
    "                names = ['text', 'sentiment', 'unamed'], dtype = {'text': str, 'sentiment': str})\n",
    "#size of dataset \n",
    "flat_file.shape "
   ]
  },
  {
   "cell_type": "markdown",
   "metadata": {},
   "source": [
    "**Description of Data**"
   ]
  },
  {
   "cell_type": "code",
   "execution_count": 3,
   "metadata": {
    "scrolled": true
   },
   "outputs": [
    {
     "data": {
      "text/html": [
       "<div>\n",
       "<style scoped>\n",
       "    .dataframe tbody tr th:only-of-type {\n",
       "        vertical-align: middle;\n",
       "    }\n",
       "\n",
       "    .dataframe tbody tr th {\n",
       "        vertical-align: top;\n",
       "    }\n",
       "\n",
       "    .dataframe thead th {\n",
       "        text-align: right;\n",
       "    }\n",
       "</style>\n",
       "<table border=\"1\" class=\"dataframe\">\n",
       "  <thead>\n",
       "    <tr style=\"text-align: right;\">\n",
       "      <th></th>\n",
       "      <th>text</th>\n",
       "      <th>sentiment</th>\n",
       "      <th>unamed</th>\n",
       "    </tr>\n",
       "  </thead>\n",
       "  <tbody>\n",
       "    <tr>\n",
       "      <th>0</th>\n",
       "      <td>Sai kha ya her kisi kay bus ki bat nhi hai lak...</td>\n",
       "      <td>Positive</td>\n",
       "      <td>NaN</td>\n",
       "    </tr>\n",
       "    <tr>\n",
       "      <th>1</th>\n",
       "      <td>sahi bt h</td>\n",
       "      <td>Positive</td>\n",
       "      <td>NaN</td>\n",
       "    </tr>\n",
       "    <tr>\n",
       "      <th>2</th>\n",
       "      <td>Kya bt hai,</td>\n",
       "      <td>Positive</td>\n",
       "      <td>NaN</td>\n",
       "    </tr>\n",
       "    <tr>\n",
       "      <th>3</th>\n",
       "      <td>Wah je wah</td>\n",
       "      <td>Positive</td>\n",
       "      <td>NaN</td>\n",
       "    </tr>\n",
       "    <tr>\n",
       "      <th>4</th>\n",
       "      <td>Are wha kaya bat hai</td>\n",
       "      <td>Positive</td>\n",
       "      <td>NaN</td>\n",
       "    </tr>\n",
       "  </tbody>\n",
       "</table>\n",
       "</div>"
      ],
      "text/plain": [
       "                                                text sentiment unamed\n",
       "0  Sai kha ya her kisi kay bus ki bat nhi hai lak...  Positive    NaN\n",
       "1                                          sahi bt h  Positive    NaN\n",
       "2                                        Kya bt hai,  Positive    NaN\n",
       "3                                         Wah je wah  Positive    NaN\n",
       "4                               Are wha kaya bat hai  Positive    NaN"
      ]
     },
     "execution_count": 3,
     "metadata": {},
     "output_type": "execute_result"
    }
   ],
   "source": [
    "flat_file.head()"
   ]
  },
  {
   "cell_type": "markdown",
   "metadata": {},
   "source": [
    "**Label Distribution**"
   ]
  },
  {
   "cell_type": "code",
   "execution_count": 4,
   "metadata": {},
   "outputs": [
    {
     "data": {
      "text/plain": [
       "Neutral     8929\n",
       "Positive    6013\n",
       "Negative    5286\n",
       "Neative        1\n",
       "Name: sentiment, dtype: int64"
      ]
     },
     "execution_count": 4,
     "metadata": {},
     "output_type": "execute_result"
    }
   ],
   "source": [
    "flat_file.sentiment.value_counts()"
   ]
  },
  {
   "cell_type": "markdown",
   "metadata": {},
   "source": [
    "**Convert all text to lowercase**"
   ]
  },
  {
   "cell_type": "code",
   "execution_count": 5,
   "metadata": {},
   "outputs": [],
   "source": [
    "flat_file.iloc[:,0] = flat_file.text.str.strip().str.lower()"
   ]
  },
  {
   "cell_type": "markdown",
   "metadata": {},
   "source": [
    "### 2. Compare Labels"
   ]
  },
  {
   "cell_type": "markdown",
   "metadata": {},
   "source": [
    "Four looping functions are used to compare the text, and to identify **inconsistently labeled** data:\n",
    "    \n",
    "    1. similar_text\n",
    "    \n",
    "    2. Index_duplicates\n",
    "    \n",
    "    3. dupe_drop\n",
    "    \n",
    "    4. drop_text\n",
    "    \n",
    "Nested for loops are used to search through the rows to find duplicates.  This is an expensive operation, especially for larger datasets.  The  '==' comparison is used in case any of the text with the same value do not also point to the same object.  The approach is first to find identical row entries, to use that collection to search through the dataset to find the indices of dulpicative entries, to evaluate if duplicative entries have two or more labels and if so do to drop identical entries with two or more different classes from the analysis.  "
   ]
  },
  {
   "cell_type": "markdown",
   "metadata": {},
   "source": [
    "**Nested loops to cycle through the data to find duplicates**"
   ]
  },
  {
   "cell_type": "code",
   "execution_count": 6,
   "metadata": {},
   "outputs": [],
   "source": [
    "def similar_text(list_values):\n",
    "    '''Extract subset from text column with same value '''\n",
    "    text_list = []\n",
    "\n",
    "    for i in range(len(list_values)):\n",
    "        count = 0\n",
    "        \n",
    "        for j in range(len(list_values)):\n",
    "            \n",
    "            if list_values[i] == list_values[j]:\n",
    "                count+=1\n",
    "                \n",
    "        if (count > 2):\n",
    "            \n",
    "            text_list.append(list_values[i])\n",
    "    \n",
    "    return set(text_list)"
   ]
  },
  {
   "cell_type": "markdown",
   "metadata": {},
   "source": [
    "**Create list of indices where duplicates exist**"
   ]
  },
  {
   "cell_type": "code",
   "execution_count": 7,
   "metadata": {},
   "outputs": [],
   "source": [
    "def index_duplicates(duplicate, dupe_df):\n",
    "    \n",
    "    '''return indices of duplicates '''\n",
    "    \n",
    "    dupe_index = []\n",
    "    \n",
    "    for i in range(len(dupe_df.text)):\n",
    "        \n",
    "        if dupe_df.text[i] == duplicate:\n",
    "            \n",
    "            dupe_index.append(i)\n",
    "            \n",
    "    return dupe_index"
   ]
  },
  {
   "cell_type": "markdown",
   "metadata": {},
   "source": [
    "**Check for more than one label**"
   ]
  },
  {
   "cell_type": "code",
   "execution_count": 8,
   "metadata": {},
   "outputs": [],
   "source": [
    "def dupe_drop(dupe_list, dupe_df):\n",
    "    \n",
    "    '''return if text if text has more than one label''' \n",
    "    \n",
    "    df = dupe_df.iloc[dupe_list]\n",
    "    \n",
    "    if len(set(df.sentiment))!=1:\n",
    "        \n",
    "        return df.text[dupe_list[0]]"
   ]
  },
  {
   "cell_type": "markdown",
   "metadata": {},
   "source": [
    "**Example of non-text data that has also been inconsistently labeled**"
   ]
  },
  {
   "cell_type": "code",
   "execution_count": 9,
   "metadata": {},
   "outputs": [
    {
     "data": {
      "text/html": [
       "<div>\n",
       "<style scoped>\n",
       "    .dataframe tbody tr th:only-of-type {\n",
       "        vertical-align: middle;\n",
       "    }\n",
       "\n",
       "    .dataframe tbody tr th {\n",
       "        vertical-align: top;\n",
       "    }\n",
       "\n",
       "    .dataframe thead th {\n",
       "        text-align: right;\n",
       "    }\n",
       "</style>\n",
       "<table border=\"1\" class=\"dataframe\">\n",
       "  <thead>\n",
       "    <tr style=\"text-align: right;\">\n",
       "      <th></th>\n",
       "      <th>text</th>\n",
       "      <th>sentiment</th>\n",
       "      <th>unamed</th>\n",
       "    </tr>\n",
       "  </thead>\n",
       "  <tbody>\n",
       "    <tr>\n",
       "      <th>7791</th>\n",
       "      <td>:)</td>\n",
       "      <td>Neutral</td>\n",
       "      <td>NaN</td>\n",
       "    </tr>\n",
       "    <tr>\n",
       "      <th>8181</th>\n",
       "      <td>:)</td>\n",
       "      <td>Neutral</td>\n",
       "      <td>NaN</td>\n",
       "    </tr>\n",
       "    <tr>\n",
       "      <th>10594</th>\n",
       "      <td>:)</td>\n",
       "      <td>Negative</td>\n",
       "      <td>NaN</td>\n",
       "    </tr>\n",
       "  </tbody>\n",
       "</table>\n",
       "</div>"
      ],
      "text/plain": [
       "      text sentiment unamed\n",
       "7791    :)   Neutral    NaN\n",
       "8181    :)   Neutral    NaN\n",
       "10594   :)  Negative    NaN"
      ]
     },
     "execution_count": 9,
     "metadata": {},
     "output_type": "execute_result"
    }
   ],
   "source": [
    "dp_ind = index_duplicates(':)', flat_file)\n",
    "df = flat_file.loc[dp_ind]\n",
    "df"
   ]
  },
  {
   "cell_type": "markdown",
   "metadata": {},
   "source": [
    "**Drop only duplicates with two or more labels**"
   ]
  },
  {
   "cell_type": "code",
   "execution_count": 10,
   "metadata": {},
   "outputs": [],
   "source": [
    "def drop_text(dupeList, df):\n",
    "    \n",
    "    '''text and index of text to drop from corpus dataset'''\n",
    "    \n",
    "    totalText = []\n",
    "    totalIndices = []\n",
    "    \n",
    "    #list of duplicates \n",
    "    dupeList = list(dupeList)\n",
    "    \n",
    "    for dupe in (dupeList):\n",
    "        \n",
    "        #get indices of duplicates \n",
    "        dpList = index_duplicates(dupe, df)\n",
    "        \n",
    "        #return instances of duplicates with more than one label \n",
    "        dupe_name = dupe_drop(dpList, df)\n",
    "        \n",
    "        if dupe_name is not None:\n",
    "            totalText.append(dupe_name)\n",
    "            \n",
    "            for i in range(len(dpList)):\n",
    "            \n",
    "                totalIndices.append(dpList[i])\n",
    "        \n",
    "    return totalText, totalIndices"
   ]
  },
  {
   "cell_type": "markdown",
   "metadata": {},
   "source": [
    "**This is list of test with different sentiment**"
   ]
  },
  {
   "cell_type": "code",
   "execution_count": 11,
   "metadata": {},
   "outputs": [
    {
     "data": {
      "text/plain": [
       "['hahahah',\n",
       " 'haha',\n",
       " 'wah',\n",
       " 'lol',\n",
       " 'bilkul',\n",
       " 'jee ye to he',\n",
       " 'hahahha',\n",
       " 'bilkul sahi',\n",
       " ':)',\n",
       " 'hahahaha',\n",
       " 'acha',\n",
       " 'shadi ka na hona, jadu ka toor, bimariyan, shoar ko apna bana ,jumla masil ka rohani haal mojod ha mayoos afrad rabta kren masla hal ho jaen ga inshallah.']"
      ]
     },
     "execution_count": 11,
     "metadata": {},
     "output_type": "execute_result"
    }
   ],
   "source": [
    "# find duplicative text \n",
    "duplicates = similar_text(list(flat_file.text))\n",
    "\n",
    "#identify text to drop\n",
    "drop_these, dropIndices = drop_text(duplicates, flat_file)\n",
    "\n",
    "drop_these"
   ]
  },
  {
   "cell_type": "markdown",
   "metadata": {},
   "source": [
    "### 3. Preprocessing"
   ]
  },
  {
   "cell_type": "markdown",
   "metadata": {},
   "source": [
    "The pre-processing steps are aimed at reducing all non-character format including punctutation.  The unamed axis is also dropped.  All blank text, and series of blank text is reduced and then dropped. One label misspelled label is amended. "
   ]
  },
  {
   "cell_type": "code",
   "execution_count": 12,
   "metadata": {},
   "outputs": [],
   "source": [
    "def pre_processing(df):\n",
    "    \n",
    "    '''Pre-process flat file removing puntuation, dropping blank rows and labeling'''\n",
    "\n",
    "    # drop inconsistently labeled rows\n",
    "    corpus = df.drop(dropIndices, axis = 0)\n",
    "\n",
    "    #drop unamed column\n",
    "    corpus = corpus.drop(labels = 'unamed', axis = 1)\n",
    "\n",
    "    #remove anything that is not space or character\n",
    "    corpus.text = corpus.text.str.replace('[^\\s\\w]', ' ')\n",
    "    # remove digits, newline and _ char\n",
    "    corpus.text = corpus.text.str.replace('[\\d\\n_]', ' ')\n",
    "    \n",
    "    #replace two or more spaces with one space\n",
    "    corpus.text = corpus.text.str.replace('[ ]{2,}', ' ')\n",
    "\n",
    "    #drop blank sentiment \n",
    "    single_s = corpus.text.loc[corpus.text == ' '].index[:]\n",
    "    \n",
    "    #make list\n",
    "    t_space = list(single_s) \n",
    "\n",
    "    #drop rows without blank text \n",
    "    corpus = corpus.drop(t_space, axis = 0)\n",
    "    \n",
    "    # replace blank cells with nans\n",
    "    corpus.text.replace([''], np.nan, inplace=True)\n",
    "    \n",
    "    # drop nan columns\n",
    "    corpus.dropna(axis = 0, inplace = True)\n",
    "    \n",
    "    # re-label sentiment \n",
    "    corpus.sentiment = ['Negative' if x == 'Neative' else x for x in corpus.sentiment]\n",
    "\n",
    "    corpus.sentiment = [1 if x == 'Negative' else 0 for x in corpus.sentiment]\n",
    "    \n",
    "    return corpus"
   ]
  },
  {
   "cell_type": "markdown",
   "metadata": {},
   "source": [
    "**Resulting cleaner dataset, re-indexed and relabled** "
   ]
  },
  {
   "cell_type": "code",
   "execution_count": 13,
   "metadata": {},
   "outputs": [],
   "source": [
    "# resulting data post processing  \n",
    "corpus = pre_processing(flat_file)\n",
    "\n",
    "corpus = corpus.reset_index(drop=True)"
   ]
  },
  {
   "cell_type": "markdown",
   "metadata": {},
   "source": [
    "**Number of rows removed**"
   ]
  },
  {
   "cell_type": "code",
   "execution_count": 14,
   "metadata": {},
   "outputs": [
    {
     "data": {
      "text/plain": [
       "259"
      ]
     },
     "execution_count": 14,
     "metadata": {},
     "output_type": "execute_result"
    }
   ],
   "source": [
    "flat_file.shape[0] - corpus.shape[0]"
   ]
  },
  {
   "cell_type": "markdown",
   "metadata": {},
   "source": [
    "The labels have been reassigned combining the postive and neutral classes which are indicated with zeros, and negative class is indicated by 1's.  This change from a multi-classification problem to a binary one seems to align with the business objective to identify negative sentiment, and is thought to improve the accuracy of identifying negative sentiment."
   ]
  },
  {
   "cell_type": "code",
   "execution_count": 15,
   "metadata": {},
   "outputs": [
    {
     "name": "stdout",
     "output_type": "stream",
     "text": [
      "0    14685\n",
      "1     5285\n",
      "Name: sentiment, dtype: int64\n"
     ]
    },
    {
     "data": {
      "text/html": [
       "<div>\n",
       "<style scoped>\n",
       "    .dataframe tbody tr th:only-of-type {\n",
       "        vertical-align: middle;\n",
       "    }\n",
       "\n",
       "    .dataframe tbody tr th {\n",
       "        vertical-align: top;\n",
       "    }\n",
       "\n",
       "    .dataframe thead th {\n",
       "        text-align: right;\n",
       "    }\n",
       "</style>\n",
       "<table border=\"1\" class=\"dataframe\">\n",
       "  <thead>\n",
       "    <tr style=\"text-align: right;\">\n",
       "      <th></th>\n",
       "      <th>text</th>\n",
       "      <th>sentiment</th>\n",
       "    </tr>\n",
       "  </thead>\n",
       "  <tbody>\n",
       "    <tr>\n",
       "      <th>0</th>\n",
       "      <td>sai kha ya her kisi kay bus ki bat nhi hai lak...</td>\n",
       "      <td>0</td>\n",
       "    </tr>\n",
       "    <tr>\n",
       "      <th>1</th>\n",
       "      <td>sahi bt h</td>\n",
       "      <td>0</td>\n",
       "    </tr>\n",
       "    <tr>\n",
       "      <th>2</th>\n",
       "      <td>kya bt hai</td>\n",
       "      <td>0</td>\n",
       "    </tr>\n",
       "    <tr>\n",
       "      <th>3</th>\n",
       "      <td>wah je wah</td>\n",
       "      <td>0</td>\n",
       "    </tr>\n",
       "    <tr>\n",
       "      <th>4</th>\n",
       "      <td>are wha kaya bat hai</td>\n",
       "      <td>0</td>\n",
       "    </tr>\n",
       "  </tbody>\n",
       "</table>\n",
       "</div>"
      ],
      "text/plain": [
       "                                                text  sentiment\n",
       "0  sai kha ya her kisi kay bus ki bat nhi hai lak...          0\n",
       "1                                          sahi bt h          0\n",
       "2                                        kya bt hai           0\n",
       "3                                         wah je wah          0\n",
       "4                               are wha kaya bat hai          0"
      ]
     },
     "execution_count": 15,
     "metadata": {},
     "output_type": "execute_result"
    }
   ],
   "source": [
    "#description of resulting set of sentiment  \n",
    "print(corpus.sentiment.value_counts())\n",
    "\n",
    "corpus.head()"
   ]
  },
  {
   "cell_type": "markdown",
   "metadata": {},
   "source": [
    "### 4. Encode text field with vocab dictionary"
   ]
  },
  {
   "cell_type": "code",
   "execution_count": 16,
   "metadata": {},
   "outputs": [],
   "source": [
    "#using Count Vectorizer to get unique words from text column \n",
    "text_list = list(corpus.text)\n",
    "\n",
    "vector = CountVectorizer(analyzer='word')\n",
    "\n",
    "vocab_table =  vector.fit_transform(text_list)\n",
    "\n",
    "# resulting vocabulary \n",
    "vocab = vector.get_feature_names()"
   ]
  },
  {
   "cell_type": "markdown",
   "metadata": {},
   "source": [
    "**The CountVecorizer class is used to find the unique vocabulary of the text field**"
   ]
  },
  {
   "cell_type": "markdown",
   "metadata": {},
   "source": [
    "There are more than **31,000** unique words/characters used in the vocabulary"
   ]
  },
  {
   "cell_type": "markdown",
   "metadata": {},
   "source": [
    "**Vocabulary Dictionary**"
   ]
  },
  {
   "cell_type": "code",
   "execution_count": 17,
   "metadata": {},
   "outputs": [],
   "source": [
    "# Encoded dictionary assigning each word to a number  \n",
    "\n",
    "vocab_dict = {}\n",
    "\n",
    "for i, word in enumerate(vocab, start = 1):\n",
    "    \n",
    "    vocab_dict.update({word: i})"
   ]
  },
  {
   "cell_type": "markdown",
   "metadata": {},
   "source": [
    "**Encode Text** "
   ]
  },
  {
   "cell_type": "code",
   "execution_count": 18,
   "metadata": {},
   "outputs": [],
   "source": [
    "encode_corpus = []\n",
    "characters  = []\n",
    "\n",
    "# encode code each sentence in text column using the vocab_dict\n",
    "for i in range(len(text_list)):\n",
    "    \n",
    "    encode_sentence = []\n",
    "\n",
    "    for word in text_list[i].split():\n",
    "        \n",
    "        try:\n",
    "    \n",
    "            encode_sentence.append(vocab_dict[word])\n",
    "        \n",
    "        except:\n",
    "            \n",
    "            # characters not found in vocab_dict\n",
    "            characters.append(word)\n",
    "    \n",
    "    encode_corpus.append(encode_sentence)        \n",
    "        "
   ]
  },
  {
   "cell_type": "markdown",
   "metadata": {},
   "source": [
    "Each row has been encoded using the vocabulary dictionary: **vocab_dict** <br>\n",
    "\n",
    "The sample entry below at row index 15305 contains five different words."
   ]
  },
  {
   "cell_type": "code",
   "execution_count": 19,
   "metadata": {},
   "outputs": [
    {
     "data": {
      "text/plain": [
       "[18264, 1243, 23439, 8832, 1378]"
      ]
     },
     "execution_count": 19,
     "metadata": {},
     "output_type": "execute_result"
    }
   ],
   "source": [
    "encode_corpus[15305]"
   ]
  },
  {
   "cell_type": "markdown",
   "metadata": {},
   "source": [
    "During the encoding process there were several instances where characters were not found in the vocabulary dictionary and therefore were not able to be encoded.  **There were 29 different characters that were not contained in the dictionary.**  These letters were not added to the dictionary.  In a TF-IDF approach these items would have likely been \"Stop Words\" and removed.  It is also possible that these letters form were part of contraction in which case theoritically a lemmatized version of the word still remains in the corpus. "
   ]
  },
  {
   "cell_type": "code",
   "execution_count": 20,
   "metadata": {},
   "outputs": [
    {
     "data": {
      "text/plain": [
       "29"
      ]
     },
     "execution_count": 20,
     "metadata": {},
     "output_type": "execute_result"
    }
   ],
   "source": [
    "#exceptions - not encoded \n",
    "len(set(characters))"
   ]
  },
  {
   "cell_type": "markdown",
   "metadata": {},
   "source": [
    "### 5. Standardize word vector length"
   ]
  },
  {
   "cell_type": "code",
   "execution_count": 21,
   "metadata": {},
   "outputs": [],
   "source": [
    "#count frequency of sequence length found in text \n",
    "freq = []\n",
    "for line in encode_corpus:\n",
    "    m = len(line)\n",
    "    freq.append(m)"
   ]
  },
  {
   "cell_type": "markdown",
   "metadata": {},
   "source": [
    "The graph below shows depicts the number of words in a row and the x axis indicates that there are about 20,000 rows in the dataset.<br>\n",
    "\n",
    "The median number of words in row is: **9**\n",
    "\n",
    "The average number of words in a row is about: **13**\n",
    "\n",
    "The max number of words in row is: **288**"
   ]
  },
  {
   "cell_type": "code",
   "execution_count": 24,
   "metadata": {},
   "outputs": [
    {
     "data": {
      "text/plain": [
       "<matplotlib.axes._subplots.AxesSubplot at 0x7ff18dbacf60>"
      ]
     },
     "execution_count": 24,
     "metadata": {},
     "output_type": "execute_result"
    },
    {
     "data": {
      "image/png": "[encoded data removed]",
      "text/plain": [
       "<Figure size 432x288 with 1 Axes>"
      ]
     },
     "metadata": {
      "needs_background": "light"
     },
     "output_type": "display_data"
    }
   ],
   "source": [
    "#frequency distribution of length of text   \n",
    "pd.DataFrame(freq).plot(kind='line')"
   ]
  },
  {
   "cell_type": "markdown",
   "metadata": {},
   "source": [
    "**Padding the length of Vector Inputs**"
   ]
  },
  {
   "cell_type": "code",
   "execution_count": 25,
   "metadata": {},
   "outputs": [],
   "source": [
    "def pad_input(list_of_list, length_int):\n",
    "    \n",
    "    '''pad text input with zeros to provide standard input for model'''\n",
    "\n",
    "    pad_corpus = []\n",
    "    \n",
    "    seq_length = []\n",
    "    \n",
    "    drop_indices  = []\n",
    "\n",
    "    for i in range(len(list_of_list)):\n",
    "        \n",
    "        # padding word vectors \n",
    "        \n",
    "        if (len(list_of_list[i]) <= length_int) and (len(list_of_list[i]) > 0):\n",
    "            \n",
    "            # adding zeros \n",
    "            zeros = list(np.zeros(length_int - len(list_of_list[i]), dtype = int))\n",
    "\n",
    "            total = zeros + list_of_list[i]\n",
    "            \n",
    "            pad_corpus.append(total)\n",
    "            \n",
    "            seq_length.append(len(list_of_list[i]))          \n",
    "        \n",
    "        #truncate \n",
    "        \n",
    "        elif len(list_of_list[i]) > length_int:\n",
    "\n",
    "            pad = list_of_list[i][:length_int]\n",
    "\n",
    "            pad_corpus.append(pad)\n",
    "            \n",
    "            seq_length.append(len(list_of_list[i]))    \n",
    "        \n",
    "        # error checking \n",
    "        else:\n",
    "            \n",
    "            drop_indices.append(i)\n",
    "                 \n",
    "    return pad_corpus, seq_length, drop_indices      "
   ]
  },
  {
   "cell_type": "markdown",
   "metadata": {},
   "source": [
    "The pad_input function (above) counts the number of words in a row and either truncates the text or add zeros (from left to right to ensure that each row of input is of equal length. "
   ]
  },
  {
   "cell_type": "code",
   "execution_count": 91,
   "metadata": {},
   "outputs": [],
   "source": [
    "vector_length = 40\n",
    "\n",
    "#pad_text - contains all the encoded equal length vectors \n",
    "\n",
    "pad_corpus, seq, drop_indices = pad_input(encode_corpus, vector_length)\n",
    "\n",
    "# labels \n",
    "y = corpus.sentiment"
   ]
  },
  {
   "cell_type": "markdown",
   "metadata": {},
   "source": [
    "**Error Checking**"
   ]
  },
  {
   "cell_type": "markdown",
   "metadata": {},
   "source": [
    "During the padding process, additional issues were discovered.  The variable **drop_indices** contains the additional list of rows that will be dropped.  Many of these instances are of empty list that may have been created during the encoding process when the set of 29 characters were not encoded.  These instances that may require further discussion to best understand how to code a more comprehensive pre-processing step that catches more edge cases and improves data quality.<br>\n",
    "\n",
    "This further reduces the number of rows by additional **35** rows. That brings the total number of dropped rows to **294** rows or about **1.5%** of the data.<br>\n",
    "\n",
    "It also means that the labels will have also have to be amended"
   ]
  },
  {
   "cell_type": "code",
   "execution_count": 92,
   "metadata": {},
   "outputs": [],
   "source": [
    "def y_clean(y, list_index):\n",
    "    \n",
    "    # remove labels aligned to bad data\n",
    "    \n",
    "    y_new = []\n",
    "    \n",
    "    for i in range(len(y)):\n",
    "        \n",
    "        if i not in list_index:\n",
    "            \n",
    "            y_new.append(y[i])\n",
    "        \n",
    "    return y_new "
   ]
  },
  {
   "cell_type": "markdown",
   "metadata": {},
   "source": [
    "**The features and labels used in the model**"
   ]
  },
  {
   "cell_type": "code",
   "execution_count": 93,
   "metadata": {},
   "outputs": [],
   "source": [
    "labels = y_clean(y, drop_indices)\n",
    "\n",
    "features = pad_corpus"
   ]
  },
  {
   "cell_type": "markdown",
   "metadata": {},
   "source": [
    "### Training, Validation and Testing Subsections of the Data"
   ]
  },
  {
   "cell_type": "code",
   "execution_count": 94,
   "metadata": {},
   "outputs": [],
   "source": [
    "X_train, X_base, y_train, y_base = train_test_split(features[:len(features)-1], \n",
    "                                                    labels[:len(labels)-1], test_size=.20006, random_state=305)\n",
    "\n",
    "X_test, X_val, y_test, y_val = train_test_split(X_base, y_base, test_size=.5, random_state=305)"
   ]
  },
  {
   "cell_type": "markdown",
   "metadata": {},
   "source": [
    "**The model is trained on about 80% percent of the data, leaving 10% for each of the validation and testing sections**"
   ]
  },
  {
   "cell_type": "code",
   "execution_count": 95,
   "metadata": {},
   "outputs": [
    {
     "name": "stdout",
     "output_type": "stream",
     "text": [
      "Training set contains 15946 X samples and 15946 y samples\n",
      "Validation set contains 1994 X samples and 1994 y samples\n",
      "Test set contains 1994 X samples and 1994 y samples\n"
     ]
    }
   ],
   "source": [
    "print('Training set contains {} X samples and {} y samples'.format(len(X_train),len(y_train)))\n",
    "print('Validation set contains {} X samples and {} y samples'.format(len(X_val),len(y_val)))\n",
    "print('Test set contains {} X samples and {} y samples'.format(len(X_test),len(y_test)))\n"
   ]
  },
  {
   "cell_type": "markdown",
   "metadata": {},
   "source": [
    "**Creating TensorDatasets**"
   ]
  },
  {
   "cell_type": "code",
   "execution_count": 96,
   "metadata": {},
   "outputs": [],
   "source": [
    "train = TensorDataset(torch.from_numpy(np.asarray(X_train)), torch.from_numpy(np.asarray(y_train)))\n",
    "val = TensorDataset(torch.from_numpy(np.asarray(X_val)), torch.from_numpy(np.asarray(y_val)))\n",
    "test = TensorDataset(torch.from_numpy(np.asarray(X_test)), torch.from_numpy(np.asarray(y_test)))"
   ]
  },
  {
   "cell_type": "markdown",
   "metadata": {},
   "source": [
    "### Creating DataLoaders Generators"
   ]
  },
  {
   "cell_type": "markdown",
   "metadata": {},
   "source": [
    "**Batch Size**"
   ]
  },
  {
   "cell_type": "markdown",
   "metadata": {},
   "source": [
    "The batch size is for this model is 2.  The batch size was driven by the desire do not arbitraily drop data.  The generators require that batch size is a multiple of each data subsection --training, validation, test.  However, the smaller batch size reduces the memory used at any given time facilitating larger models, this at the cost of higher fluctuations of performance metrics during training."
   ]
  },
  {
   "cell_type": "code",
   "execution_count": 97,
   "metadata": {},
   "outputs": [],
   "source": [
    "# batch size \n",
    "size = 2\n",
    "\n",
    "# create data load generators \n",
    "\n",
    "train_load = DataLoader(train, shuffle = True, batch_size=size)\n",
    "\n",
    "val_load = DataLoader(val, shuffle = True, batch_size=size)\n",
    "\n",
    "test_load = DataLoader(test, shuffle = True, batch_size=size)"
   ]
  },
  {
   "cell_type": "markdown",
   "metadata": {},
   "source": [
    "**Model Selection**"
   ]
  },
  {
   "cell_type": "markdown",
   "metadata": {},
   "source": [
    "The model implemented here is a RNN that uses a stacked LSTM cell that passes state in the forward direction.  The model consists of an embedding layer (dimensions vocabulary x embed_dim), dropout layers to reduce overfitting and improve the chances that the model will generalize well on new data.  The model also consists of a dense, linear layer and passes the final output through a sigmoid activation layer."
   ]
  },
  {
   "cell_type": "markdown",
   "metadata": {},
   "source": [
    "### 6. LSTM Model Architecture"
   ]
  },
  {
   "cell_type": "code",
   "execution_count": 98,
   "metadata": {},
   "outputs": [],
   "source": [
    "class romanModel(nn.Module):\n",
    "    \n",
    "    \"RNN model to classify sentiment\"\n",
    "    \n",
    "    def __init__(self, vocab, output, embed_dim, hidden_dim, size_var, n_layers, drop=.3):\n",
    "        \n",
    "        super(romanModel, self).__init__()\n",
    "        \n",
    "        self.output = output\n",
    "        self.n_layers = n_layers\n",
    "        self.hidden_dim = hidden_dim\n",
    "        self.batch_size = size_var\n",
    "        \n",
    "        # initialize embedding layer\n",
    "        self.embedding = nn.Embedding(vocab, embed_dim)\n",
    "        \n",
    "        # initialize lstm layer \n",
    "        self.lstm = nn.LSTM(embed_dim, hidden_dim, n_layers, batch_first = True, dropout = drop)\n",
    "        \n",
    "        # initialize dropout layer \n",
    "        self.dp_layer = nn.Dropout(drop)\n",
    "        \n",
    "        # initalilize fully connected linear layer\n",
    "        self.fully_connected = nn.Linear(hidden_dim, output)\n",
    "        \n",
    "        # sigmoid activation \n",
    "        self.activation = nn.Sigmoid()\n",
    "        \n",
    "    def forward(self, x, hidden):\n",
    "        # first dim of input \n",
    "        self.batch_size = x.size(0)\n",
    "        \n",
    "        #convert tensor to long type\n",
    "        x = x.long()\n",
    "        \n",
    "        #feed input into embedding layer\n",
    "        embeds = self.embedding(x)\n",
    "        \n",
    "        # -output: (batch, seq length, hidden_dim) - hidden - 2x (num layers, batch, hidden_dims)\n",
    "        out, hidden = self.lstm(embeds, hidden)\n",
    "        \n",
    "        #apply dropout layer \n",
    "        out = self.dp_layer(out)\n",
    "        \n",
    "        # linear layer (batch, seq length, 1)\n",
    "        out = self.fully_connected(out)\n",
    "        \n",
    "        #sigmoid layer (batch, seq length, 1) 0-1\n",
    "        out = self.activation(out)\n",
    "        \n",
    "        #separate by batch (batch, embed_dim) \n",
    "        out = out.view(self.batch_size, -1)\n",
    "        \n",
    "        # take last value from each batch (batch) \n",
    "        out = out[:, -1]\n",
    "        \n",
    "        return out, hidden\n",
    "    \n",
    "    def hidden_state(self):\n",
    "        \n",
    "        '''size hidden and cell state tensors'''\n",
    "        \n",
    "        weight = next(self.parameters())\n",
    "        \n",
    "        if(gpu):   \n",
    "            # sized hidden state placed on Gpu\n",
    "            hidden = (weight.new(self.n_layers, self.batch_size, self.hidden_dim).zero_().cuda(), \n",
    "                      weight.new(self.n_layers, self.batch_size, self.hidden_dim).zero_().cuda())\n",
    "        \n",
    "        else:\n",
    "            \n",
    "            hidden = (weight.new(self.n_layers, self.batch_size, self.hidden_dim).zero_(),\n",
    "                      weight.new(self.n_layers, batch_size, self.hidden_dim).zero_())\n",
    "        \n",
    "        return hidden\n",
    "\n",
    "    "
   ]
  },
  {
   "cell_type": "markdown",
   "metadata": {},
   "source": [
    "### 7. Model Parameters"
   ]
  },
  {
   "cell_type": "markdown",
   "metadata": {},
   "source": [
    "The model parameters were listed below.  of the listed parameters vector_length (the length of the input), the embed dimension and the hidden dimension were of most interest.  In general, increasing either vector length or the hidden parameters has not resulted in signifcant better model performance.<br>\n",
    "\n",
    "Increasing vector length also increases the number of placeholder (padded) non-useful inputs into the dataset, but more work could be done to design more comprehensive training jobs to have a better understanding as to how each parameter impacts the results of the model performance."
   ]
  },
  {
   "cell_type": "code",
   "execution_count": 99,
   "metadata": {},
   "outputs": [],
   "source": [
    "# model architecture \n",
    "n_layers = 2\n",
    "output_var = 1\n",
    "embed_dim = 600\n",
    "hidden_dim = 256\n",
    "size_var = size\n",
    "vocab_length = len(vocab) + 1\n",
    "\n",
    "# training parameters \n",
    "epoch = 2\n",
    "clip = 5\n",
    "\n",
    "model = romanModel(vocab_length, output_var, embed_dim, hidden_dim, size_var, n_layers)\n",
    "\n",
    "# model parameters \n",
    "learning_rate = .001\n",
    "loss_function = nn.BCELoss()\n",
    "optimizer = torch.optim.Adam(model.parameters(), lr = learning_rate)\n"
   ]
  },
  {
   "cell_type": "markdown",
   "metadata": {},
   "source": [
    "**The latest and best validation model are saved during training**"
   ]
  },
  {
   "cell_type": "code",
   "execution_count": 100,
   "metadata": {},
   "outputs": [],
   "source": [
    "#save best model - avg validation loss\n",
    "\n",
    "def save_checkpoint(state, is_best, filename='checkpoint.pth.tar'):\n",
    "    torch.save(state, filename)\n",
    "    if is_best:\n",
    "        shutil.copyfile(filename, 'model_best.pth.tar') \n",
    "        \n",
    "        print('Model Saved.........................................' )"
   ]
  },
  {
   "cell_type": "markdown",
   "metadata": {},
   "source": [
    "### 8. Training "
   ]
  },
  {
   "cell_type": "markdown",
   "metadata": {},
   "source": [
    "The model trains with relatively few passes through the data.  The number of epochs taken is reduced to capture the best model before increased overfitting begins to occur.<br>\n",
    "\n",
    "In order to train the larger models and explore more permutations of parameters the best model is not picked up to produce the results.  This was done to reduce the need load more data into memory, however the number of epochs was estimated so that the best model would be used to infer the evaluation results. "
   ]
  },
  {
   "cell_type": "code",
   "execution_count": 101,
   "metadata": {},
   "outputs": [
    {
     "name": "stdout",
     "output_type": "stream",
     "text": [
      "Training on GPU has started...\n",
      "Epoch... 1\n",
      "Epoch progress... 0.25\n",
      "Epoch progress... 0.5\n",
      "Epoch progress... 0.75\n",
      "Epoch progress... 1.0\n",
      "Model Saved.........................................\n",
      "Training loss.... 1.010295851805343\n",
      "Validation loss... 0.5142550337032127\n",
      "Epoch... 2\n",
      "Epoch progress... 0.25\n",
      "Epoch progress... 0.5\n",
      "Epoch progress... 0.75\n",
      "Epoch progress... 1.0\n",
      "Training loss.... 0.31080721849402176\n",
      "Validation loss... 0.5309591039396596\n"
     ]
    }
   ],
   "source": [
    "gpu = torch.cuda.is_available()\n",
    "\n",
    "if (gpu):\n",
    "    model.cuda()\n",
    "    print('Training on GPU has started...')\n",
    "\n",
    "count_row = 0\n",
    "best_val = 1\n",
    "model.train()\n",
    "\n",
    "for i in range(epoch):\n",
    "    print('Epoch...', i+1)\n",
    "    # initialize hidden input \n",
    "    hid = model.hidden_state()\n",
    "    # cycle training data \n",
    "    validation_loss = []\n",
    "    train_loss = 0\n",
    "    \n",
    "    for features, labels in (train_load):\n",
    "        \n",
    "        #move to gpu\n",
    "        if (gpu):\n",
    "            \n",
    "            features = features.cuda()\n",
    "            labels = labels.cuda()\n",
    "        \n",
    "        count_row +=1\n",
    "        \n",
    "        # zero gradient \n",
    "        optimizer.zero_grad()\n",
    "        \n",
    "        # input features and hidden state, model outputs projection and hidden state \n",
    "        output, hid = model(features, hid)\n",
    "        \n",
    "        hid = (hid[0].detach(), hid[0].detach())\n",
    "        \n",
    "        # binary cross entropy loss\n",
    "        loss = loss_function(output, labels.float())\n",
    "        \n",
    "        # calculate the gradient \n",
    "        loss.backward()\n",
    "        \n",
    "        # limit size of gradient \n",
    "        nn.utils.clip_grad_norm_(model.parameters(), clip)\n",
    "        \n",
    "        #update with gradient \n",
    "        optimizer.step()\n",
    "        \n",
    "        # interval set to quarters \n",
    "        interval = int((len(X_train)/size)/4)\n",
    "        \n",
    "        if count_row % interval == 0: \n",
    "            \n",
    "            print('Epoch progress...', round(((count_row/(len(X_train)/size))-i), 2))           \n",
    "            \n",
    "            # initialize hidden state\n",
    "            hid_val = model.hidden_state()\n",
    "            \n",
    "            #set model to evaluation mode\n",
    "            model.eval()\n",
    "            \n",
    "            #cycle through validation data \n",
    "            for features_val, labels_val in val_load:\n",
    "                \n",
    "                if (gpu):\n",
    "                    \n",
    "                    features_val = features_val.cuda()\n",
    "                    labels_val = labels_val.cuda()                \n",
    "\n",
    "                output_val, hid_val = model(features_val, hid_val)\n",
    "                \n",
    "                # validation loss metirc \n",
    "                loss_val = loss_function(output_val, labels_val.float())\n",
    "                \n",
    "                #record validation metrics per batch\n",
    "                validation_loss.append(loss_val.item())\n",
    "\n",
    "            # reset model to train mode\n",
    "            model.train()\n",
    "        \n",
    "        train_loss += loss.item()\n",
    "        \n",
    "    # validation metric \n",
    "    current_val = sum(validation_loss)/len(validation_loss)\n",
    "\n",
    "    #compare model metrics\n",
    "    is_best = current_val < best_val\n",
    "\n",
    "    best_val = min(current_val, best_val)\n",
    "\n",
    "    #model state \n",
    "    best_state = {\n",
    "\n",
    "        'epoch': i+1,\n",
    "        'state_dict' : model.state_dict(),\n",
    "        'opt_dict' : optimizer.state_dict(), \n",
    "    }\n",
    "\n",
    "    #checkpoint model \n",
    "    save_checkpoint(best_state, is_best, filename='checkpoint.pth.tar')  \n",
    "     \n",
    "    #print training metrics     \n",
    "    print('Training loss....', train_loss/(count_row/size))\n",
    "    print('Validation loss...', sum(validation_loss)/len(validation_loss))\n",
    "        "
   ]
  },
  {
   "cell_type": "markdown",
   "metadata": {},
   "source": [
    "### 9. Evaluation"
   ]
  },
  {
   "cell_type": "code",
   "execution_count": 102,
   "metadata": {},
   "outputs": [],
   "source": [
    "#size initial hidden states\n",
    "#hid_test = model.hidden_state()\n",
    "\n",
    "#empty lists\n",
    "total_pred = []\n",
    "total_labels = []\n",
    "\n",
    "# set to evaluation mode\n",
    "model.eval()\n",
    "\n",
    "# initialize hidden state\n",
    "hid_test = model.hidden_state()\n",
    "    \n",
    "for features_test, labels_test in test_load:\n",
    "\n",
    "    if (gpu):\n",
    "\n",
    "        features_test = features_test.cuda()\n",
    "        labels_test = labels_test.cuda()\n",
    "        model = model.cuda()\n",
    "\n",
    "\n",
    "    #get predictions \n",
    "    pred, hid_test = model(features_test, hid_test)\n",
    "    \n",
    "    #rounded prediction tensor \n",
    "    pred = torch.round(pred)\n",
    "\n",
    "    #predictions and labels \n",
    "    total_pred += list(pred.detach().cpu().numpy())\n",
    "    total_labels += list(labels_test.detach().cpu().numpy())    "
   ]
  },
  {
   "cell_type": "markdown",
   "metadata": {},
   "source": [
    "### 10. Results"
   ]
  },
  {
   "cell_type": "code",
   "execution_count": 103,
   "metadata": {},
   "outputs": [
    {
     "name": "stdout",
     "output_type": "stream",
     "text": [
      "              precision    recall  f1-score   support\n",
      "\n",
      "           0       0.83      0.92      0.87      1464\n",
      "           1       0.68      0.48      0.56       530\n",
      "\n",
      "    accuracy                           0.80      1994\n",
      "   macro avg       0.75      0.70      0.71      1994\n",
      "weighted avg       0.79      0.80      0.79      1994\n",
      "\n"
     ]
    },
    {
     "data": {
      "text/plain": [
       "[Text(0, 0.5, 'Postive/Neutral'), Text(0, 1.5, 'Negative')]"
      ]
     },
     "execution_count": 103,
     "metadata": {},
     "output_type": "execute_result"
    },
    {
     "data": {
      "image/png": "[encoded data removed]",
      "text/plain": [
       "<Figure size 432x288 with 2 Axes>"
      ]
     },
     "metadata": {
      "needs_background": "light"
     },
     "output_type": "display_data"
    }
   ],
   "source": [
    "#confusion matrix \n",
    "\n",
    "print(classification_report(total_labels, total_pred))\n",
    "\n",
    "ax = plt.subplot()\n",
    "sns.heatmap(confusion_matrix(total_labels, total_pred), annot=True, fmt='g', ax = ax) \n",
    "\n",
    "# labels, title and ticks\n",
    "ax.set_xlabel('Predicted')\n",
    "ax.set_ylabel('Actual')\n",
    "\n",
    "ax.xaxis.set_ticklabels(['Postive/Neutral', 'Negative'])\n",
    "ax.yaxis.set_ticklabels(['Postive/Neutral', 'Negative'])"
   ]
  },
  {
   "cell_type": "markdown",
   "metadata": {},
   "source": [
    "**The accuracy of this model, with the given parameters is about 80%** <br>\n",
    "\n",
    "There are more false positives than false negatives so the model wrongly predicts negative sentiment more often than it fails to indicate negative sentiment."
   ]
  },
  {
   "cell_type": "markdown",
   "metadata": {},
   "source": [
    "### Business Outcomes"
   ]
  },
  {
   "cell_type": "markdown",
   "metadata": {},
   "source": [
    "The primary business objective was to identify negative sentiment in the data optimizing for accuracy. This model could potentially establish the baseline for evaluating improved models.  In general, would result in models with more predictive power. In general, more accurate models should result from more data being available for training, tuning an evalutaion.\n",
    "\n",
    "With more data, and the resources to conduct training more data could result in word embedded layers specfic to this application. An embedded layer containing the vector word representations of the words in this dataset would likely improve the model. \n",
    "\n",
    "With more data, one could sample it in a manner that may yield better results.  It has been mentioned, that inputs of this data have variable length, and that including vectors of longer length results in adding uneseful data.  Additional data would make it feasible to conduct analysis to better understand how the model can be optimized for certain lengths of input.  \n",
    "\n",
    "More data would result in a more balanced dataset, which would facilitate more rigorous testing and potentially eliminate the need to resample the data. This model was found to be more effective at identifying positve/neutral data, which represents the majority of the sample. Sampling could be used to build a more balanced dataset, but at the risk of causing other issues resulting from either reusing samples or further reducing the size of the dataset.  \n",
    "\n",
    "The test data set on which the evaluation metrics are based contain only about 2,000 records.  With more data, one would not only be more confident in the performance metrics, but also that some bias is not having some unforseen impact on how the results should be interpreted.  For example, it could be possible that this data set was taken during a time period, or during an event the skews what would ordinarily indicate a given sentiment.\n",
    "\n",
    "More data would also inform how to select a modeling approach.  With more data, it is possible to learn that less complex, more inexpensive models could be implemented while still acheiveing a given accuracy threshold, or also that additional complexity is justified.  Support Vector Machine models preformed well on this limited dataset, but it is difficult to complete a full business case analysis of that approach compared to a deep learning approach with Attention that would likley perform better, at higher cost and complexity.  The amount of data redefines the scope of the challenge and as a result working with the amount of data expected when at scale would provide the best insight appraoch any analytic challenge.   "
   ]
  }
 ],
 "metadata": {
  "kernelspec": {
   "display_name": "Python 3",
   "language": "python",
   "name": "python3"
  },
  "language_info": {
   "codemirror_mode": {
    "name": "ipython",
    "version": 3
   },
   "file_extension": ".py",
   "mimetype": "text/x-python",
   "name": "python",
   "nbconvert_exporter": "python",
   "pygments_lexer": "ipython3",
   "version": "3.6.5"
  }
 },
 "nbformat": 4,
 "nbformat_minor": 2
}
